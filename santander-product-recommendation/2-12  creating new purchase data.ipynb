{
 "cells": [
  {
   "cell_type": "code",
   "execution_count": 1,
   "metadata": {},
   "outputs": [],
   "source": [
    "import pandas as pd\n",
    "import numpy as np"
   ]
  },
  {
   "cell_type": "code",
   "execution_count": 2,
   "metadata": {},
   "outputs": [
    {
     "name": "stderr",
     "output_type": "stream",
     "text": [
      "/usr/local/lib/python3.8/site-packages/IPython/core/interactiveshell.py:3145: DtypeWarning: Columns (5,8,11,15) have mixed types.Specify dtype option on import or set low_memory=False.\n",
      "  has_raised = await self.run_ast_nodes(code_ast.body, cell_name,\n"
     ]
    }
   ],
   "source": [
    "trn = pd.read_csv('./data/train_ver2.csv')"
   ]
  },
  {
   "cell_type": "code",
   "execution_count": 3,
   "metadata": {},
   "outputs": [],
   "source": [
    "prods = trn.columns[24:].tolist()"
   ]
  },
  {
   "cell_type": "code",
   "execution_count": 4,
   "metadata": {},
   "outputs": [
    {
     "data": {
      "text/plain": [
       "['ind_ahor_fin_ult1',\n",
       " 'ind_aval_fin_ult1',\n",
       " 'ind_cco_fin_ult1',\n",
       " 'ind_cder_fin_ult1',\n",
       " 'ind_cno_fin_ult1',\n",
       " 'ind_ctju_fin_ult1',\n",
       " 'ind_ctma_fin_ult1',\n",
       " 'ind_ctop_fin_ult1',\n",
       " 'ind_ctpp_fin_ult1',\n",
       " 'ind_deco_fin_ult1',\n",
       " 'ind_deme_fin_ult1',\n",
       " 'ind_dela_fin_ult1',\n",
       " 'ind_ecue_fin_ult1',\n",
       " 'ind_fond_fin_ult1',\n",
       " 'ind_hip_fin_ult1',\n",
       " 'ind_plan_fin_ult1',\n",
       " 'ind_pres_fin_ult1',\n",
       " 'ind_reca_fin_ult1',\n",
       " 'ind_tjcr_fin_ult1',\n",
       " 'ind_valo_fin_ult1',\n",
       " 'ind_viv_fin_ult1',\n",
       " 'ind_nomina_ult1',\n",
       " 'ind_nom_pens_ult1',\n",
       " 'ind_recibo_ult1']"
      ]
     },
     "execution_count": 4,
     "metadata": {},
     "output_type": "execute_result"
    }
   ],
   "source": [
    "prods"
   ]
  },
  {
   "cell_type": "code",
   "execution_count": 5,
   "metadata": {},
   "outputs": [],
   "source": [
    "def date_to_int(str_date):\n",
    "    Y, M, D = [int(a) for a in str_date.strip().split(\"-\")]\n",
    "    int_date = (int(Y) - 2015) * 12 + int(M)\n",
    "    return int_date"
   ]
  },
  {
   "cell_type": "code",
   "execution_count": 6,
   "metadata": {},
   "outputs": [],
   "source": [
    "trn['int_date'] = trn['fecha_dato'].map(date_to_int).astype(np.int8)"
   ]
  },
  {
   "cell_type": "code",
   "execution_count": 7,
   "metadata": {},
   "outputs": [],
   "source": [
    "trn_lag = trn.copy()\n",
    "trn_lag['int_date'] += 1\n",
    "trn_lag.columns = [col + '_prev' if col not in ['ncodpers', 'int_date'] else col for col in trn.columns]"
   ]
  },
  {
   "cell_type": "code",
   "execution_count": 8,
   "metadata": {},
   "outputs": [
    {
     "data": {
      "text/plain": [
       "Index(['fecha_dato_prev', 'ncodpers', 'ind_empleado_prev',\n",
       "       'pais_residencia_prev', 'sexo_prev', 'age_prev', 'fecha_alta_prev',\n",
       "       'ind_nuevo_prev', 'antiguedad_prev', 'indrel_prev',\n",
       "       'ult_fec_cli_1t_prev', 'indrel_1mes_prev', 'tiprel_1mes_prev',\n",
       "       'indresi_prev', 'indext_prev', 'conyuemp_prev', 'canal_entrada_prev',\n",
       "       'indfall_prev', 'tipodom_prev', 'cod_prov_prev', 'nomprov_prev',\n",
       "       'ind_actividad_cliente_prev', 'renta_prev', 'segmento_prev',\n",
       "       'ind_ahor_fin_ult1_prev', 'ind_aval_fin_ult1_prev',\n",
       "       'ind_cco_fin_ult1_prev', 'ind_cder_fin_ult1_prev',\n",
       "       'ind_cno_fin_ult1_prev', 'ind_ctju_fin_ult1_prev',\n",
       "       'ind_ctma_fin_ult1_prev', 'ind_ctop_fin_ult1_prev',\n",
       "       'ind_ctpp_fin_ult1_prev', 'ind_deco_fin_ult1_prev',\n",
       "       'ind_deme_fin_ult1_prev', 'ind_dela_fin_ult1_prev',\n",
       "       'ind_ecue_fin_ult1_prev', 'ind_fond_fin_ult1_prev',\n",
       "       'ind_hip_fin_ult1_prev', 'ind_plan_fin_ult1_prev',\n",
       "       'ind_pres_fin_ult1_prev', 'ind_reca_fin_ult1_prev',\n",
       "       'ind_tjcr_fin_ult1_prev', 'ind_valo_fin_ult1_prev',\n",
       "       'ind_viv_fin_ult1_prev', 'ind_nomina_ult1_prev',\n",
       "       'ind_nom_pens_ult1_prev', 'ind_recibo_ult1_prev', 'int_date'],\n",
       "      dtype='object')"
      ]
     },
     "execution_count": 8,
     "metadata": {},
     "output_type": "execute_result"
    }
   ],
   "source": [
    "trn_lag.columns"
   ]
  },
  {
   "cell_type": "code",
   "execution_count": 9,
   "metadata": {},
   "outputs": [],
   "source": [
    "df_trn = trn.merge(trn_lag, on=['ncodpers', 'int_date'], how='left')"
   ]
  },
  {
   "cell_type": "code",
   "execution_count": 10,
   "metadata": {},
   "outputs": [],
   "source": [
    "del trn, trn_lag"
   ]
  },
  {
   "cell_type": "code",
   "execution_count": 11,
   "metadata": {},
   "outputs": [],
   "source": [
    "# fill in null with, first month data have no prev data.\n",
    "for prod in prods:\n",
    "    prev = prod + '_prev'\n",
    "    df_trn[prev].fillna(0, inplace=True)"
   ]
  },
  {
   "cell_type": "code",
   "execution_count": 12,
   "metadata": {},
   "outputs": [],
   "source": [
    "# creating padd as new purchasing data, \n",
    "# it meas current month(df_trn[prod]) has product but previous month(df_trn[prod + '_prev']) has not\n",
    "for prod in prods:\n",
    "    padd = prod + '_add'\n",
    "    prev = prod + '_prev'\n",
    "    df_trn[padd] = ((df_trn[prod] == 1) & (df_trn[prev] == 0)).astype(np.int8)"
   ]
  },
  {
   "cell_type": "code",
   "execution_count": 13,
   "metadata": {},
   "outputs": [],
   "source": [
    "# filter only new purchasing data and save it.\n",
    "add_cols = [prod + '_add' for prod in prods]\n",
    "labels = df_trn[add_cols].copy()\n",
    "labels.columns = prods\n",
    "labels.to_csv('./data/labels.csv', index=False)"
   ]
  }
 ],
 "metadata": {
  "kernelspec": {
   "display_name": "Python 3",
   "language": "python",
   "name": "python3"
  },
  "language_info": {
   "codemirror_mode": {
    "name": "ipython",
    "version": 3
   },
   "file_extension": ".py",
   "mimetype": "text/x-python",
   "name": "python",
   "nbconvert_exporter": "python",
   "pygments_lexer": "ipython3",
   "version": "3.8.5"
  }
 },
 "nbformat": 4,
 "nbformat_minor": 4
}
