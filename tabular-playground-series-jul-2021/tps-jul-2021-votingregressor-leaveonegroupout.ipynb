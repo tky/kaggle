{
 "cells": [
  {
   "cell_type": "markdown",
   "metadata": {
    "id": "kHdG5OlSHZtK"
   },
   "source": [
    "# Credits\n",
    "---\n",
    "[CatBoost_13Feature_Cross_Validation](https://www.kaggle.com/andy6804tw/catboost-13feature-cross-validation)  \n",
    "[CatBoost_14Feature_Cross_Validation + FE](https://www.kaggle.com/paddykb/catboost-14feature-cross-validation-fe)  "
   ]
  },
  {
   "cell_type": "markdown",
   "metadata": {},
   "source": [
    "# Libraries\n",
    "---"
   ]
  },
  {
   "cell_type": "code",
   "execution_count": 1,
   "metadata": {
    "execution": {
     "iopub.execute_input": "2021-07-21T03:19:58.12457Z",
     "iopub.status.busy": "2021-07-21T03:19:58.12401Z",
     "iopub.status.idle": "2021-07-21T03:20:00.832735Z",
     "shell.execute_reply": "2021-07-21T03:20:00.831801Z",
     "shell.execute_reply.started": "2021-07-21T03:19:58.124478Z"
    },
    "id": "rutzg8q4HZtL"
   },
   "outputs": [],
   "source": [
    "import pandas as pd  \n",
    "import numpy as np\n",
    "import random\n",
    "import math\n",
    "import os\n",
    "\n",
    "from sklearn.experimental import enable_hist_gradient_boosting\n",
    "from sklearn.ensemble import ExtraTreesRegressor, GradientBoostingRegressor, HistGradientBoostingRegressor, RandomForestRegressor, VotingRegressor\n",
    "from sklearn.model_selection import LeaveOneGroupOut\n",
    "from sklearn.preprocessing import StandardScaler, PowerTransformer\n",
    "from sklearn.metrics import mean_squared_error\n",
    "\n",
    "import lightgbm as lgb\n",
    "import xgboost as xgb\n",
    "import catboost as cbt\n",
    "\n",
    "import warnings\n",
    "warnings.filterwarnings('ignore')"
   ]
  },
  {
   "cell_type": "code",
   "execution_count": 2,
   "metadata": {
    "execution": {
     "iopub.execute_input": "2021-07-21T03:20:00.834275Z",
     "iopub.status.busy": "2021-07-21T03:20:00.833999Z",
     "iopub.status.idle": "2021-07-21T03:20:00.838197Z",
     "shell.execute_reply": "2021-07-21T03:20:00.83731Z",
     "shell.execute_reply.started": "2021-07-21T03:20:00.834249Z"
    }
   },
   "outputs": [],
   "source": [
    "CFG = {\n",
    "    'seed': 2021,\n",
    "}"
   ]
  },
  {
   "cell_type": "code",
   "execution_count": 3,
   "metadata": {
    "execution": {
     "iopub.execute_input": "2021-07-21T03:20:00.840043Z",
     "iopub.status.busy": "2021-07-21T03:20:00.839652Z",
     "iopub.status.idle": "2021-07-21T03:20:00.851034Z",
     "shell.execute_reply": "2021-07-21T03:20:00.850237Z",
     "shell.execute_reply.started": "2021-07-21T03:20:00.840003Z"
    }
   },
   "outputs": [],
   "source": [
    "def seed_everything(seed=42):\n",
    "    random.seed(seed)\n",
    "    os.environ['PYTHONHASHSEED'] = str(seed)\n",
    "    np.random.seed(seed)\n",
    "\n",
    "seed_everything(CFG['seed'])"
   ]
  },
  {
   "cell_type": "markdown",
   "metadata": {},
   "source": [
    "# Datasets\n",
    "---"
   ]
  },
  {
   "cell_type": "code",
   "execution_count": 4,
   "metadata": {
    "execution": {
     "iopub.execute_input": "2021-07-21T03:20:00.85274Z",
     "iopub.status.busy": "2021-07-21T03:20:00.852305Z",
     "iopub.status.idle": "2021-07-21T03:20:00.948506Z",
     "shell.execute_reply": "2021-07-21T03:20:00.947599Z",
     "shell.execute_reply.started": "2021-07-21T03:20:00.852703Z"
    },
    "id": "yZSVPv9fl2yr",
    "outputId": "4b4968e7-8d36-4235-cd7e-0678a3192b8d"
   },
   "outputs": [],
   "source": [
    "train = pd.read_csv(\"train.csv\", index_col=\"date_time\", parse_dates=True)\n",
    "test = pd.read_csv(\"test.csv\", index_col=\"date_time\", parse_dates=True)\n",
    "submission = pd.read_csv(\"sample_submission.csv\", index_col=\"date_time\", parse_dates=True)\n",
    "\n",
    "train=train.loc[~(train.index=='2011-01-01 00:00:00')]"
   ]
  },
  {
   "cell_type": "code",
   "execution_count": 5,
   "metadata": {
    "execution": {
     "iopub.execute_input": "2021-07-21T03:20:00.949992Z",
     "iopub.status.busy": "2021-07-21T03:20:00.949695Z",
     "iopub.status.idle": "2021-07-21T03:20:00.957109Z",
     "shell.execute_reply": "2021-07-21T03:20:00.956003Z",
     "shell.execute_reply.started": "2021-07-21T03:20:00.949963Z"
    }
   },
   "outputs": [],
   "source": [
    "all_df = pd.concat([train, test])"
   ]
  },
  {
   "cell_type": "markdown",
   "metadata": {},
   "source": [
    "# Feature engineering\n",
    "---"
   ]
  },
  {
   "cell_type": "code",
   "execution_count": 6,
   "metadata": {
    "execution": {
     "iopub.execute_input": "2021-07-21T03:20:00.959043Z",
     "iopub.status.busy": "2021-07-21T03:20:00.958708Z",
     "iopub.status.idle": "2021-07-21T03:20:00.971573Z",
     "shell.execute_reply": "2021-07-21T03:20:00.970518Z",
     "shell.execute_reply.started": "2021-07-21T03:20:00.959008Z"
    }
   },
   "outputs": [],
   "source": [
    "def make_features(df, params):\n",
    "    df['deg_K'] = df['deg_C'] + 273.15\n",
    "    \n",
    "    df['sensor_6'] = (df['sensor_2'] - df['sensor_5']) / df['sensor_5']\n",
    "    df['sensor_7'] = (df['sensor_3'] - df['sensor_4']) / df['sensor_4']\n",
    "    \n",
    "    for periods in params[0]:\n",
    "        df[f'dt-{periods}'] = df['deg_C'] - df['deg_C'].shift(periods=periods, fill_value=0)\n",
    "\n",
    "    for periods in params[1]:\n",
    "        df[f'abshum-{periods}'] = df['absolute_humidity'] - df['absolute_humidity'].shift(periods=periods, fill_value=0)\n",
    "        df[f'relhum-{periods}'] = df['relative_humidity'] - df['relative_humidity'].shift(periods=periods, fill_value=0)\n",
    "    \n",
    "    for i in range(7):\n",
    "        for periods in params[2]:\n",
    "            df[f's{i+1}-{periods}'] = df[f'sensor_{i+1}'] - df[f'sensor_{i+1}'].shift(periods=periods, fill_value=0)\n",
    "\n",
    "            \n",
    "    df.drop(columns='deg_C', inplace=True)\n",
    "    \n",
    "    return df"
   ]
  },
  {
   "cell_type": "code",
   "execution_count": 7,
   "metadata": {
    "execution": {
     "iopub.execute_input": "2021-07-21T03:20:00.973151Z",
     "iopub.status.busy": "2021-07-21T03:20:00.972849Z",
     "iopub.status.idle": "2021-07-21T03:20:00.989647Z",
     "shell.execute_reply": "2021-07-21T03:20:00.988814Z",
     "shell.execute_reply.started": "2021-07-21T03:20:00.973125Z"
    }
   },
   "outputs": [],
   "source": [
    "def pb_add(X):\n",
    "    X['day'] = X.index.weekday\n",
    "    X['is_odd'] = (X['sensor_4'] < 646) & (X['absolute_humidity'] < 0.238)\n",
    "    diff = X.index - X.index.min()\n",
    "    trend = diff.days\n",
    "    \n",
    "    for i in [1, 2, 3, 4]:\n",
    "        X[f'f{i}s'] = np.sin(trend * 2 * math.pi / (365 * i)) \n",
    "        X[f'f{i}c'] = np.cos(trend * 2 * math.pi / (365 * i))\n",
    "    for i in [1, 2, 3]:\n",
    "        X[f'fh{i}s'] = np.sin(diff.seconds * 2 * math.pi / ( 3600 * 24 * i))\n",
    "        X[f'fh{i}c'] = np.cos(diff.seconds * 2 * math.pi / ( 3600 * 24 * i))\n",
    "    \n",
    "    sensor_features = [\n",
    "        'deg_K', \n",
    "        'relative_humidity', 'absolute_humidity', \n",
    "        'sensor_1', 'sensor_2', 'sensor_3', 'sensor_4', 'sensor_5', 'sensor_6', 'sensor_7',\n",
    "    ]\n",
    "    \n",
    "    lags = [-1, -4, -24, -7*24]\n",
    "    for sensor_feature in sensor_features:\n",
    "        this = X[sensor_feature]\n",
    "        # look back\n",
    "        for lag in lags:\n",
    "            feature = f'{sensor_feature}_{abs(lag)}b'\n",
    "            this_f = X[sensor_feature].shift(lag)\n",
    "            X[feature] = (this_f - this).fillna(0)\n",
    "        # look forwards\n",
    "        for lag in lags:\n",
    "            feature = f'{sensor_feature}_{abs(-lag)}f'\n",
    "            this_f = X[sensor_feature].shift(-lag)\n",
    "            X[feature] = (this_f - this).fillna(0)\n",
    "            \n",
    "    return X"
   ]
  },
  {
   "cell_type": "code",
   "execution_count": 8,
   "metadata": {
    "execution": {
     "iopub.execute_input": "2021-07-21T03:20:00.992365Z",
     "iopub.status.busy": "2021-07-21T03:20:00.991801Z",
     "iopub.status.idle": "2021-07-21T03:20:01.177182Z",
     "shell.execute_reply": "2021-07-21T03:20:01.176186Z",
     "shell.execute_reply.started": "2021-07-21T03:20:00.992326Z"
    }
   },
   "outputs": [],
   "source": [
    "# The months will be used for folds split\n",
    "months = pd.Series(all_df.index.month[:len(train)])\n",
    "\n",
    "all_df[\"hour\"] = all_df.index.hour\n",
    "all_df['seconds'] = all_df['hour']*3600+all_df.index.minute*60+all_df.index.second\n",
    "all_df[\"working_hours\"] =  all_df[\"hour\"].isin(np.arange(8, 21, 1)).astype(\"int\")\n",
    "all_df['maximum_hours'] =  all_df['hour'].isin([8, 9, 17, 18, 19, 20]).astype('int')\n",
    "all_df[\"is_weekend\"] = (all_df.index.dayofweek >= 5).astype(\"int\")\n",
    "all_df['is_saturday'] = (all_df.index.dayofweek==5).astype(\"int\")\n",
    "all_df[\"SMC\"] = (all_df[\"absolute_humidity\"] * 100) / all_df[\"relative_humidity\"]\n",
    "all_df.drop(columns = 'hour', inplace = True)\n",
    "\n",
    "all_df = make_features(all_df.copy(), [[3, 6], [3, 6], [1]])\n",
    "all_df = pb_add(all_df.copy())"
   ]
  },
  {
   "cell_type": "code",
   "execution_count": 9,
   "metadata": {
    "execution": {
     "iopub.execute_input": "2021-07-21T03:20:01.178853Z",
     "iopub.status.busy": "2021-07-21T03:20:01.178563Z",
     "iopub.status.idle": "2021-07-21T03:20:04.416945Z",
     "shell.execute_reply": "2021-07-21T03:20:04.415962Z",
     "shell.execute_reply.started": "2021-07-21T03:20:01.178826Z"
    }
   },
   "outputs": [],
   "source": [
    "features = [col for col in all_df.columns.tolist() if 'target_' not in col]\n",
    "target = [col for col in all_df.columns.tolist() if 'target_' in col]\n",
    "\n",
    "pt = PowerTransformer(method='yeo-johnson', standardize=True)\n",
    "all_df[features] = pt.fit_transform(all_df[features])\n",
    "\n",
    "X = all_df[features][:len(train)].copy()\n",
    "y = np.log1p(all_df[target][:len(train)]).copy()\n",
    "X_test = all_df[features][len(train):]"
   ]
  },
  {
   "cell_type": "markdown",
   "metadata": {
    "id": "c9c7CEYcHZtU"
   },
   "source": [
    "# VotingRegressor\n",
    "---"
   ]
  },
  {
   "cell_type": "code",
   "execution_count": 10,
   "metadata": {
    "execution": {
     "iopub.execute_input": "2021-07-21T03:20:04.420898Z",
     "iopub.status.busy": "2021-07-21T03:20:04.420578Z",
     "iopub.status.idle": "2021-07-21T03:20:04.426862Z",
     "shell.execute_reply": "2021-07-21T03:20:04.425807Z",
     "shell.execute_reply.started": "2021-07-21T03:20:04.420869Z"
    }
   },
   "outputs": [],
   "source": [
    "weights = {\n",
    "    'target_carbon_monoxide': [0.8, 0.1, 1.0, 0.7, 0.6, 0.3, 0.3],\n",
    "    'target_benzene': [0.8, 0.1, 1.0, 0.7, 0.6, 0.3, 0.3],\n",
    "    'target_nitrogen_oxides': [0.8, 0.1, 1.0, 0.7, 0.6, 0.3, 0.3],\n",
    "}"
   ]
  },
  {
   "cell_type": "code",
   "execution_count": 11,
   "metadata": {
    "execution": {
     "iopub.execute_input": "2021-07-21T03:20:04.42845Z",
     "iopub.status.busy": "2021-07-21T03:20:04.428166Z",
     "iopub.status.idle": "2021-07-21T03:26:07.199227Z",
     "shell.execute_reply": "2021-07-21T03:26:07.197911Z",
     "shell.execute_reply.started": "2021-07-21T03:20:04.428423Z"
    }
   },
   "outputs": [
    {
     "name": "stdout",
     "output_type": "stream",
     "text": [
      "===== target_carbon_monoxide =====\n",
      "FOLD 0 rmsle 0.095612\n",
      "FOLD 1 rmsle 0.098223\n",
      "FOLD 2 rmsle 0.124988\n",
      "FOLD 3 rmsle 0.145465\n",
      "FOLD 4 rmsle 0.106995\n",
      "FOLD 5 rmsle 0.106345\n",
      "FOLD 6 rmsle 0.090619\n",
      "FOLD 7 rmsle 0.084365\n",
      "FOLD 8 rmsle 0.172436\n",
      "FOLD 9 rmsle 0.281108\n",
      "----------------------------------------\n",
      "rmsle 0.143694\n",
      "===== target_benzene =====\n",
      "FOLD 0 rmsle 0.080816\n",
      "FOLD 1 rmsle 0.084073\n",
      "FOLD 2 rmsle 0.078561\n",
      "FOLD 3 rmsle 0.073233\n",
      "FOLD 4 rmsle 0.075559\n",
      "FOLD 5 rmsle 0.079824\n",
      "FOLD 6 rmsle 0.077864\n",
      "FOLD 7 rmsle 0.076424\n",
      "FOLD 8 rmsle 0.085266\n",
      "FOLD 9 rmsle 0.085873\n",
      "----------------------------------------\n",
      "rmsle 0.079815\n",
      "===== target_nitrogen_oxides =====\n",
      "FOLD 0 rmsle 0.163305\n",
      "FOLD 1 rmsle 0.214202\n",
      "FOLD 2 rmsle 0.199142\n",
      "FOLD 3 rmsle 0.237599\n",
      "FOLD 4 rmsle 0.215772\n",
      "FOLD 5 rmsle 0.539085\n",
      "FOLD 6 rmsle 0.388086\n",
      "FOLD 7 rmsle 0.204333\n",
      "FOLD 8 rmsle 0.257410\n",
      "FOLD 9 rmsle 0.541628\n",
      "----------------------------------------\n",
      "rmsle 0.329752\n",
      "CPU times: user 1min 20s, sys: 1min 26s, total: 2min 46s\n",
      "Wall time: 30min 57s\n"
     ]
    }
   ],
   "source": [
    "%%time\n",
    "\n",
    "n_splits = months.nunique()\n",
    "\n",
    "for target in y.columns:\n",
    "    print(f\"===== {target} =====\")\n",
    "    \n",
    "    oof = np.zeros(X.shape[0])\n",
    "    pred = 0\n",
    "    logo = LeaveOneGroupOut()\n",
    "\n",
    "    for fold, (trn_idx, val_idx) in enumerate(logo.split(X, y, months)):\n",
    "        X_train, X_valid = X.iloc[trn_idx], X.iloc[val_idx]\n",
    "        y_train, y_valid = y.iloc[trn_idx][target], y.iloc[val_idx][target]\n",
    "        \n",
    "        model1 = lgb.LGBMRegressor(random_state=CFG['seed'], n_jobs=-1)\n",
    "        model2 = xgb.XGBRegressor(random_state=CFG['seed'], n_jobs=-1)\n",
    "        model3 = cbt.CatBoostRegressor(random_seed=CFG['seed'], verbose=False)\n",
    "        model4 = ExtraTreesRegressor(random_state=CFG['seed'], n_jobs=-1)\n",
    "        model5 = GradientBoostingRegressor(random_state=CFG['seed'])\n",
    "        model6 = RandomForestRegressor(random_state=CFG['seed'])\n",
    "        model7 = HistGradientBoostingRegressor(random_state=CFG['seed'])\n",
    "\n",
    "        model = VotingRegressor(\n",
    "            estimators=[\n",
    "                ('lgb', model1),\n",
    "                ('xgb', model2),\n",
    "                ('cbt', model3),\n",
    "                ('etr', model4),\n",
    "                ('gbr', model5),\n",
    "                ('rfr', model6),\n",
    "                ('hgb', model7)\n",
    "            ],\n",
    "            weights=weights[target],\n",
    "            n_jobs=-1,\n",
    "        )\n",
    "\n",
    "        model.fit(X_train, y_train)\n",
    "\n",
    "        pred += np.expm1(model.predict(X_test)) / n_splits\n",
    "        oof[val_idx] = model.predict(X_valid)\n",
    "        print(f\"FOLD {fold} rmsle {mean_squared_error(y_valid, oof[val_idx], squared=False):.6f}\")\n",
    "\n",
    "    print(\"-\"*40)\n",
    "    print(f\"rmsle {mean_squared_error(y[target], oof, squared=False):.6f}\")\n",
    "\n",
    "    submission[target] = pred"
   ]
  },
  {
   "cell_type": "markdown",
   "metadata": {},
   "source": [
    "# Submission\n",
    "---"
   ]
  },
  {
   "cell_type": "code",
   "execution_count": 12,
   "metadata": {
    "execution": {
     "iopub.execute_input": "2021-07-21T03:26:07.201035Z",
     "iopub.status.busy": "2021-07-21T03:26:07.200728Z",
     "iopub.status.idle": "2021-07-21T03:26:07.244961Z",
     "shell.execute_reply": "2021-07-21T03:26:07.243664Z",
     "shell.execute_reply.started": "2021-07-21T03:26:07.201001Z"
    }
   },
   "outputs": [
    {
     "data": {
      "text/html": [
       "<div>\n",
       "<style scoped>\n",
       "    .dataframe tbody tr th:only-of-type {\n",
       "        vertical-align: middle;\n",
       "    }\n",
       "\n",
       "    .dataframe tbody tr th {\n",
       "        vertical-align: top;\n",
       "    }\n",
       "\n",
       "    .dataframe thead th {\n",
       "        text-align: right;\n",
       "    }\n",
       "</style>\n",
       "<table border=\"1\" class=\"dataframe\">\n",
       "  <thead>\n",
       "    <tr style=\"text-align: right;\">\n",
       "      <th></th>\n",
       "      <th>target_carbon_monoxide</th>\n",
       "      <th>target_benzene</th>\n",
       "      <th>target_nitrogen_oxides</th>\n",
       "    </tr>\n",
       "    <tr>\n",
       "      <th>date_time</th>\n",
       "      <th></th>\n",
       "      <th></th>\n",
       "      <th></th>\n",
       "    </tr>\n",
       "  </thead>\n",
       "  <tbody>\n",
       "    <tr>\n",
       "      <th>2011-01-01 00:00:00</th>\n",
       "      <td>1.451465</td>\n",
       "      <td>5.004344</td>\n",
       "      <td>258.887315</td>\n",
       "    </tr>\n",
       "    <tr>\n",
       "      <th>2011-01-01 01:00:00</th>\n",
       "      <td>2.028466</td>\n",
       "      <td>7.910204</td>\n",
       "      <td>333.398155</td>\n",
       "    </tr>\n",
       "    <tr>\n",
       "      <th>2011-01-01 02:00:00</th>\n",
       "      <td>1.761174</td>\n",
       "      <td>7.336600</td>\n",
       "      <td>299.486363</td>\n",
       "    </tr>\n",
       "    <tr>\n",
       "      <th>2011-01-01 03:00:00</th>\n",
       "      <td>1.994862</td>\n",
       "      <td>8.213431</td>\n",
       "      <td>338.253236</td>\n",
       "    </tr>\n",
       "    <tr>\n",
       "      <th>2011-01-01 04:00:00</th>\n",
       "      <td>1.515265</td>\n",
       "      <td>6.421813</td>\n",
       "      <td>248.961524</td>\n",
       "    </tr>\n",
       "    <tr>\n",
       "      <th>...</th>\n",
       "      <td>...</td>\n",
       "      <td>...</td>\n",
       "      <td>...</td>\n",
       "    </tr>\n",
       "    <tr>\n",
       "      <th>2011-04-04 10:00:00</th>\n",
       "      <td>2.802491</td>\n",
       "      <td>12.855211</td>\n",
       "      <td>344.605328</td>\n",
       "    </tr>\n",
       "    <tr>\n",
       "      <th>2011-04-04 11:00:00</th>\n",
       "      <td>2.094735</td>\n",
       "      <td>10.436422</td>\n",
       "      <td>248.556261</td>\n",
       "    </tr>\n",
       "    <tr>\n",
       "      <th>2011-04-04 12:00:00</th>\n",
       "      <td>2.283206</td>\n",
       "      <td>12.406599</td>\n",
       "      <td>245.352188</td>\n",
       "    </tr>\n",
       "    <tr>\n",
       "      <th>2011-04-04 13:00:00</th>\n",
       "      <td>1.914206</td>\n",
       "      <td>10.547468</td>\n",
       "      <td>194.176057</td>\n",
       "    </tr>\n",
       "    <tr>\n",
       "      <th>2011-04-04 14:00:00</th>\n",
       "      <td>2.010376</td>\n",
       "      <td>12.084750</td>\n",
       "      <td>195.884724</td>\n",
       "    </tr>\n",
       "  </tbody>\n",
       "</table>\n",
       "<p>2247 rows × 3 columns</p>\n",
       "</div>"
      ],
      "text/plain": [
       "                     target_carbon_monoxide  target_benzene  \\\n",
       "date_time                                                     \n",
       "2011-01-01 00:00:00                1.451465        5.004344   \n",
       "2011-01-01 01:00:00                2.028466        7.910204   \n",
       "2011-01-01 02:00:00                1.761174        7.336600   \n",
       "2011-01-01 03:00:00                1.994862        8.213431   \n",
       "2011-01-01 04:00:00                1.515265        6.421813   \n",
       "...                                     ...             ...   \n",
       "2011-04-04 10:00:00                2.802491       12.855211   \n",
       "2011-04-04 11:00:00                2.094735       10.436422   \n",
       "2011-04-04 12:00:00                2.283206       12.406599   \n",
       "2011-04-04 13:00:00                1.914206       10.547468   \n",
       "2011-04-04 14:00:00                2.010376       12.084750   \n",
       "\n",
       "                     target_nitrogen_oxides  \n",
       "date_time                                    \n",
       "2011-01-01 00:00:00              258.887315  \n",
       "2011-01-01 01:00:00              333.398155  \n",
       "2011-01-01 02:00:00              299.486363  \n",
       "2011-01-01 03:00:00              338.253236  \n",
       "2011-01-01 04:00:00              248.961524  \n",
       "...                                     ...  \n",
       "2011-04-04 10:00:00              344.605328  \n",
       "2011-04-04 11:00:00              248.556261  \n",
       "2011-04-04 12:00:00              245.352188  \n",
       "2011-04-04 13:00:00              194.176057  \n",
       "2011-04-04 14:00:00              195.884724  \n",
       "\n",
       "[2247 rows x 3 columns]"
      ]
     },
     "execution_count": 12,
     "metadata": {},
     "output_type": "execute_result"
    }
   ],
   "source": [
    "submission.to_csv('submission.csv')\n",
    "submission"
   ]
  },
  {
   "cell_type": "code",
   "execution_count": null,
   "metadata": {},
   "outputs": [],
   "source": []
  }
 ],
 "metadata": {
  "kernelspec": {
   "display_name": "Python 3 (ipykernel)",
   "language": "python",
   "name": "python3"
  },
  "language_info": {
   "codemirror_mode": {
    "name": "ipython",
    "version": 3
   },
   "file_extension": ".py",
   "mimetype": "text/x-python",
   "name": "python",
   "nbconvert_exporter": "python",
   "pygments_lexer": "ipython3",
   "version": "3.9.6"
  }
 },
 "nbformat": 4,
 "nbformat_minor": 4
}
